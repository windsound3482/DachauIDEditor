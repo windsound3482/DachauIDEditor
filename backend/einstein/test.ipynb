{
 "cells": [
  {
   "cell_type": "code",
   "execution_count": 1,
   "metadata": {},
   "outputs": [
    {
     "ename": "InvalidURL",
     "evalue": "nonnumeric port: '//archive.projects.bayern/overview'",
     "output_type": "error",
     "traceback": [
      "\u001b[1;31m---------------------------------------------------------------------------\u001b[0m",
      "\u001b[1;31mValueError\u001b[0m                                Traceback (most recent call last)",
      "File \u001b[1;32mc:\\Users\\Charles\\AppData\\Local\\Programs\\Python\\Python311\\Lib\\http\\client.py:889\u001b[0m, in \u001b[0;36mHTTPConnection._get_hostport\u001b[1;34m(self, host, port)\u001b[0m\n\u001b[0;32m    888\u001b[0m \u001b[39mtry\u001b[39;00m:\n\u001b[1;32m--> 889\u001b[0m     port \u001b[39m=\u001b[39m \u001b[39mint\u001b[39;49m(host[i\u001b[39m+\u001b[39;49m\u001b[39m1\u001b[39;49m:])\n\u001b[0;32m    890\u001b[0m \u001b[39mexcept\u001b[39;00m \u001b[39mValueError\u001b[39;00m:\n",
      "\u001b[1;31mValueError\u001b[0m: invalid literal for int() with base 10: '//archive.projects.bayern/overview'",
      "\nDuring handling of the above exception, another exception occurred:\n",
      "\u001b[1;31mInvalidURL\u001b[0m                                Traceback (most recent call last)",
      "\u001b[1;32mc:\\Users\\Charles\\Documents\\einstein\\test.ipynb Cell 1\u001b[0m line \u001b[0;36m1\n\u001b[0;32m     <a href='vscode-notebook-cell:/c%3A/Users/Charles/Documents/einstein/test.ipynb#W0sZmlsZQ%3D%3D?line=11'>12</a>\u001b[0m password \u001b[39m=\u001b[39m \u001b[39m\"\u001b[39m\u001b[39moMhcdRpIxXQPtXY0\u001b[39m\u001b[39m\"\u001b[39m\n\u001b[0;32m     <a href='vscode-notebook-cell:/c%3A/Users/Charles/Documents/einstein/test.ipynb#W0sZmlsZQ%3D%3D?line=13'>14</a>\u001b[0m \u001b[39m#This sets up the https connection\u001b[39;00m\n\u001b[1;32m---> <a href='vscode-notebook-cell:/c%3A/Users/Charles/Documents/einstein/test.ipynb#W0sZmlsZQ%3D%3D?line=14'>15</a>\u001b[0m c \u001b[39m=\u001b[39m HTTPSConnection(\u001b[39m\"\u001b[39;49m\u001b[39mhttps://archive.projects.bayern/overview\u001b[39;49m\u001b[39m\"\u001b[39;49m)\n\u001b[0;32m     <a href='vscode-notebook-cell:/c%3A/Users/Charles/Documents/einstein/test.ipynb#W0sZmlsZQ%3D%3D?line=15'>16</a>\u001b[0m \u001b[39m#then connect\u001b[39;00m\n\u001b[0;32m     <a href='vscode-notebook-cell:/c%3A/Users/Charles/Documents/einstein/test.ipynb#W0sZmlsZQ%3D%3D?line=16'>17</a>\u001b[0m headers \u001b[39m=\u001b[39m { \u001b[39m'\u001b[39m\u001b[39mAuthorization\u001b[39m\u001b[39m'\u001b[39m : basic_auth(username, password) }\n",
      "File \u001b[1;32mc:\\Users\\Charles\\AppData\\Local\\Programs\\Python\\Python311\\Lib\\http\\client.py:1409\u001b[0m, in \u001b[0;36mHTTPSConnection.__init__\u001b[1;34m(self, host, port, key_file, cert_file, timeout, source_address, context, check_hostname, blocksize)\u001b[0m\n\u001b[0;32m   1405\u001b[0m \u001b[39mdef\u001b[39;00m \u001b[39m__init__\u001b[39m(\u001b[39mself\u001b[39m, host, port\u001b[39m=\u001b[39m\u001b[39mNone\u001b[39;00m, key_file\u001b[39m=\u001b[39m\u001b[39mNone\u001b[39;00m, cert_file\u001b[39m=\u001b[39m\u001b[39mNone\u001b[39;00m,\n\u001b[0;32m   1406\u001b[0m              timeout\u001b[39m=\u001b[39msocket\u001b[39m.\u001b[39m_GLOBAL_DEFAULT_TIMEOUT,\n\u001b[0;32m   1407\u001b[0m              source_address\u001b[39m=\u001b[39m\u001b[39mNone\u001b[39;00m, \u001b[39m*\u001b[39m, context\u001b[39m=\u001b[39m\u001b[39mNone\u001b[39;00m,\n\u001b[0;32m   1408\u001b[0m              check_hostname\u001b[39m=\u001b[39m\u001b[39mNone\u001b[39;00m, blocksize\u001b[39m=\u001b[39m\u001b[39m8192\u001b[39m):\n\u001b[1;32m-> 1409\u001b[0m     \u001b[39msuper\u001b[39;49m(HTTPSConnection, \u001b[39mself\u001b[39;49m)\u001b[39m.\u001b[39;49m\u001b[39m__init__\u001b[39;49m(host, port, timeout,\n\u001b[0;32m   1410\u001b[0m                                           source_address,\n\u001b[0;32m   1411\u001b[0m                                           blocksize\u001b[39m=\u001b[39;49mblocksize)\n\u001b[0;32m   1412\u001b[0m     \u001b[39mif\u001b[39;00m (key_file \u001b[39mis\u001b[39;00m \u001b[39mnot\u001b[39;00m \u001b[39mNone\u001b[39;00m \u001b[39mor\u001b[39;00m cert_file \u001b[39mis\u001b[39;00m \u001b[39mnot\u001b[39;00m \u001b[39mNone\u001b[39;00m \u001b[39mor\u001b[39;00m\n\u001b[0;32m   1413\u001b[0m                 check_hostname \u001b[39mis\u001b[39;00m \u001b[39mnot\u001b[39;00m \u001b[39mNone\u001b[39;00m):\n\u001b[0;32m   1414\u001b[0m         \u001b[39mimport\u001b[39;00m \u001b[39mwarnings\u001b[39;00m\n",
      "File \u001b[1;32mc:\\Users\\Charles\\AppData\\Local\\Programs\\Python\\Python311\\Lib\\http\\client.py:851\u001b[0m, in \u001b[0;36mHTTPConnection.__init__\u001b[1;34m(self, host, port, timeout, source_address, blocksize)\u001b[0m\n\u001b[0;32m    848\u001b[0m \u001b[39mself\u001b[39m\u001b[39m.\u001b[39m_tunnel_port \u001b[39m=\u001b[39m \u001b[39mNone\u001b[39;00m\n\u001b[0;32m    849\u001b[0m \u001b[39mself\u001b[39m\u001b[39m.\u001b[39m_tunnel_headers \u001b[39m=\u001b[39m {}\n\u001b[1;32m--> 851\u001b[0m (\u001b[39mself\u001b[39m\u001b[39m.\u001b[39mhost, \u001b[39mself\u001b[39m\u001b[39m.\u001b[39mport) \u001b[39m=\u001b[39m \u001b[39mself\u001b[39;49m\u001b[39m.\u001b[39;49m_get_hostport(host, port)\n\u001b[0;32m    853\u001b[0m \u001b[39mself\u001b[39m\u001b[39m.\u001b[39m_validate_host(\u001b[39mself\u001b[39m\u001b[39m.\u001b[39mhost)\n\u001b[0;32m    855\u001b[0m \u001b[39m# This is stored as an instance variable to allow unit\u001b[39;00m\n\u001b[0;32m    856\u001b[0m \u001b[39m# tests to replace it with a suitable mockup\u001b[39;00m\n",
      "File \u001b[1;32mc:\\Users\\Charles\\AppData\\Local\\Programs\\Python\\Python311\\Lib\\http\\client.py:894\u001b[0m, in \u001b[0;36mHTTPConnection._get_hostport\u001b[1;34m(self, host, port)\u001b[0m\n\u001b[0;32m    892\u001b[0m             port \u001b[39m=\u001b[39m \u001b[39mself\u001b[39m\u001b[39m.\u001b[39mdefault_port\n\u001b[0;32m    893\u001b[0m         \u001b[39melse\u001b[39;00m:\n\u001b[1;32m--> 894\u001b[0m             \u001b[39mraise\u001b[39;00m InvalidURL(\u001b[39m\"\u001b[39m\u001b[39mnonnumeric port: \u001b[39m\u001b[39m'\u001b[39m\u001b[39m%s\u001b[39;00m\u001b[39m'\u001b[39m\u001b[39m\"\u001b[39m \u001b[39m%\u001b[39m host[i\u001b[39m+\u001b[39m\u001b[39m1\u001b[39m:])\n\u001b[0;32m    895\u001b[0m     host \u001b[39m=\u001b[39m host[:i]\n\u001b[0;32m    896\u001b[0m \u001b[39melse\u001b[39;00m:\n",
      "\u001b[1;31mInvalidURL\u001b[0m: nonnumeric port: '//archive.projects.bayern/overview'"
     ]
    }
   ],
   "source": [
    "from http.client import HTTPSConnection\n",
    "from base64 import b64encode\n",
    "\n",
    "\n",
    "# Authorization token: we need to base 64 encode it \n",
    "# and then decode it to acsii as python 3 stores it as a byte string\n",
    "def basic_auth(username, password):\n",
    "    token = b64encode(f\"{username}:{password}\".encode('utf-8')).decode(\"ascii\")\n",
    "    return f'Basic {token}'\n",
    "\n",
    "username = \"css-user\"\n",
    "password = \"oMhcdRpIxXQPtXY0\"\n",
    "\n",
    "#This sets up the https connection\n",
    "c = HTTPSConnection(\"archive.projects.bayern/overview\")\n",
    "#then connect\n",
    "headers = { 'Authorization' : basic_auth(username, password) }\n",
    "c.request('GET', '/', headers=headers)\n",
    "#get the response back\n",
    "res = c.getresponse()\n",
    "# at this point you could check the status etc\n",
    "# this gets the page text\n",
    "data = res.read()  "
   ]
  }
 ],
 "metadata": {
  "kernelspec": {
   "display_name": "Python 3",
   "language": "python",
   "name": "python3"
  },
  "language_info": {
   "codemirror_mode": {
    "name": "ipython",
    "version": 3
   },
   "file_extension": ".py",
   "mimetype": "text/x-python",
   "name": "python",
   "nbconvert_exporter": "python",
   "pygments_lexer": "ipython3",
   "version": "3.11.1"
  }
 },
 "nbformat": 4,
 "nbformat_minor": 2
}
